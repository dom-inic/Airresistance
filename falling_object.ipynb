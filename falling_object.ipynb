{
 "cells": [
  {
   "cell_type": "code",
   "execution_count": 2,
   "metadata": {},
   "outputs": [],
   "source": [
    "import matplotlib.pyplot as plt\n",
    "import numpy as np\n"
   ]
  },
  {
   "cell_type": "code",
   "execution_count": 5,
   "metadata": {},
   "outputs": [
    {
     "name": "stdout",
     "output_type": "stream",
     "text": [
      "5 60.0\n",
      "-0.06250000000000001\n",
      "-9.908253175473055\n",
      "2.5000000000000004\n",
      "4.330127018922193\n"
     ]
    }
   ],
   "source": [
    "# Model parameters\n",
    "M = 1.0          # Mass of projectile in kg\n",
    "g = 9.8          # Acceleration due to gravity (m/s^2)\n",
    "V = 5          # Initial velocity in m/s\n",
    "ang = 60.0       # Angle of initial velocity in degrees\n",
    "Cd = 0.005       # Drag coefficient\n",
    "dt = 0.5         # time step in s\n",
    "\n",
    "# checking the variables by printing them out \n",
    "print (V, ang)\n",
    "t = [0]      # t condition set to 0\n",
    "# vx and vy conditions \n",
    "vx = [V*np.cos(ang/180*np.pi)]  \n",
    "vy = [V*np.sin(ang/180*np.pi)]\n",
    "\n",
    "# Drag force\n",
    "drag = Cd*V**2                       \n",
    "\n",
    "# defined lists \n",
    "ax = [-(drag*np.cos(ang/180*np.pi))/M]        \n",
    "ay = [-g-(drag*np.sin(ang/180*np.pi)/M)]\n",
    "\n",
    "# Print out some values to check\n",
    "print (ax[0])\n",
    "print (ay[0])\n",
    "print (vx[0])\n",
    "print (vy[0])"
   ]
  },
  {
   "cell_type": "code",
   "execution_count": 6,
   "metadata": {
    "scrolled": true
   },
   "outputs": [
    {
     "name": "stdout",
     "output_type": "stream",
     "text": [
      "t= [0, 0.5, 1.0, 1.5, 2.0, 2.5, 3.0, 3.5, 4.0, 4.5, 5.0]\n",
      "vx= [2.5000000000000004, 2.4687500000000004, 2.460644872469525, 2.414739074020748, 2.269176815591282, 1.955817145751308, 1.3938674905520148, 0.48115048212603995, -0.9191574620994367, -3.000200401902308, -6.0491329872306006]\n"
     ]
    },
    {
     "data": {
      "text/plain": [
       "Text(0.5, 0, 'time (s)')"
      ]
     },
     "execution_count": 6,
     "metadata": {},
     "output_type": "execute_result"
    },
    {
     "data": {
      "image/png": "[encoded data removed]",
      "text/plain": [
       "<Figure size 432x288 with 1 Axes>"
      ]
     },
     "metadata": {
      "needs_background": "light"
     },
     "output_type": "display_data"
    }
   ],
   "source": [
    "# Using the eulers method to update the variable \n",
    "counter = 0\n",
    "while (counter < 10):\n",
    "    t.append(t[counter]+dt)                # increment by dt and add to the list of time \n",
    "    vx.append(vx[counter]+dt*ax[counter])  # Update the velocity\n",
    "    vy.append(vy[counter]+dt*ay[counter])  \n",
    "\n",
    "    # With the new velocity calculate the drag force\n",
    "    vel = np.sqrt(vx[counter+1]**2 + vy[counter+1]**2)   # magnitude of velocity\n",
    "    drag = Cd*vel**2                                   # drag force \n",
    "    ax.append(-(drag*np.cos(ang/180*np.pi))/M)     \n",
    "    ay.append(-g-(drag*np.sin(ang/180*np.pi)/M))\n",
    "    \n",
    "    # we Increment the counter by 1\n",
    "    counter = counter +1\n",
    "\n",
    "print (\"t=\", t)\n",
    "print (\"vx=\", vx)\n",
    "\n",
    "# Let's plot the velocity against time\n",
    "plt.plot(t,vx)\n",
    "plt.ylabel(\"x-velocity (m/s)\")\n",
    "plt.xlabel(\"time (s)\")"
   ]
  },
  {
   "cell_type": "code",
   "execution_count": null,
   "metadata": {},
   "outputs": [],
   "source": []
  }
 ],
 "metadata": {
  "kernelspec": {
   "display_name": "Python 3",
   "language": "python",
   "name": "python3"
  },
  "language_info": {
   "codemirror_mode": {
    "name": "ipython",
    "version": 3
   },
   "file_extension": ".py",
   "mimetype": "text/x-python",
   "name": "python",
   "nbconvert_exporter": "python",
   "pygments_lexer": "ipython3",
   "version": "3.8.0"
  }
 },
 "nbformat": 4,
 "nbformat_minor": 4
}
