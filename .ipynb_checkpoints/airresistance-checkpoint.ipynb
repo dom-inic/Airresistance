{
 "cells": [
  {
   "cell_type": "code",
   "execution_count": 1,
   "metadata": {},
   "outputs": [],
   "source": [
    "import matplotlib.pyplot as plt\n",
    "import numpy as np"
   ]
  },
  {
   "cell_type": "code",
   "execution_count": null,
   "metadata": {},
   "outputs": [
    {
     "name": "stdout",
     "output_type": "stream",
     "text": [
      "5 60.0\n"
     ]
    }
   ],
   "source": [
    "# set parameters\n",
    "M = 0.5         # Mass of projectile in kg\n",
    "g = 10        # Acceleration due to gravity (m/s^2)\n",
    "V = 5           # Initial velocity in m/s\n",
    "ang = 60.0       # Angle of initial velocity in degrees\n",
    "Cd = 0.005       # Drag coefficient\n",
    "dt = 0.5         # time step in s\n",
    "\n",
    "# checking the variables to printing them out\n",
    "print (V, ang)\n",
    "\n",
    "# Set up the lists to store variables\n",
    "# Initialize the velocity and position at t=0\n",
    "t = [0]                         # t condition\n",
    "vx = [V*np.cos(ang/180*np.pi)]  # vx and vy conditions\n",
    "vy = [V*np.sin(ang/180*np.pi)]\n",
    "x = [0]                         # list for x and y position\n",
    "y = [0]\n",
    "\n",
    "# Drag force\n",
    "drag=Cd*V**2                      # drag force \n",
    "\n",
    "# Acceleration components\n",
    "ax = [-(drag*np.cos(ang/180*np.pi))/M ]          \n",
    "ay = [-g-(drag*np.sin(ang/180*np.pi)/M) ]\n",
    "\n",
    "\n",
    "dt = 0.2\n",
    "\n",
    "# Use Euler method to update variables\n",
    "counter = 0\n",
    "while (y[counter] >= 0):                   # Check that the last value of y is >= 0\n",
    "    t.append(t[counter]+dt)                # increment by dt and add to the list of time \n",
    "    \n",
    "    \n",
    "    \n",
    "    # Update velocity\n",
    "    vx.append(vx[counter]+dt*ax[counter])  # Update the velocity\n",
    "    vy.append(vy[counter]+dt*ay[counter])\n",
    "\n",
    "    # Update position\n",
    "    x.append(x[counter]+dt*vx[counter])    \n",
    "    y.append(y[counter]+dt*vy[counter])    \n",
    "\n",
    "    # With the new velocity we calculate the drag force and update acceleration\n",
    "    vel = np.sqrt(vx[counter+1]**2 + vy[counter+1]**2)   # magnitude of velocity\n",
    "    drag = Cd*vel**2                                   # drag force \n",
    "    ax.append(-(drag*np.cos(ang/180*np.pi))/M)     \n",
    "    ay.append(-g-(drag*np.sin(ang/180*np.pi)/M))\n",
    "    \n",
    "    # Increment the counter by 1\n",
    "    counter = counter +1\n",
    "\n",
    "# Let's plot the trajectory\n",
    "plt.plot(x,y,'ro')\n",
    "plt.ylabel(\"y (m)\")\n",
    "plt.xlabel(\"x (m)\")\n",
    "   \n",
    "# The last value of x should give the range of the projectile approximately.\n",
    "\n",
    "print (\"Range of projectile is {:3.1f} m\".format(x[counter]))\n"
   ]
  },
  {
   "cell_type": "code",
   "execution_count": null,
   "metadata": {},
   "outputs": [],
   "source": []
  }
 ],
 "metadata": {
  "kernelspec": {
   "display_name": "Python 3",
   "language": "python",
   "name": "python3"
  },
  "language_info": {
   "codemirror_mode": {
    "name": "ipython",
    "version": 3
   },
   "file_extension": ".py",
   "mimetype": "text/x-python",
   "name": "python",
   "nbconvert_exporter": "python",
   "pygments_lexer": "ipython3",
   "version": "3.8.0"
  }
 },
 "nbformat": 4,
 "nbformat_minor": 4
}
