{
 "cells": [
  {
   "cell_type": "code",
   "execution_count": 10,
   "metadata": {},
   "outputs": [],
   "source": [
    "\n",
    "import matplotlib.pyplot as plt\n",
    "import numpy as np\n",
    "\n"
   ]
  },
  {
   "cell_type": "code",
   "execution_count": 11,
   "metadata": {},
   "outputs": [
    {
     "name": "stdout",
     "output_type": "stream",
     "text": [
      "80 60.0\n",
      "-16.000000000000004\n",
      "-37.51281292110204\n",
      "40.00000000000001\n",
      "69.28203230275508\n"
     ]
    }
   ],
   "source": [
    "\n",
    "# Set up the lists to store variables\n",
    "# Start by putting the initial velocities at t=0\n",
    "\n",
    "\n",
    "\n",
    "# Model parameters\n",
    "M = 1.0          # Mass of projectile in kg\n",
    "g = 9.8          # Acceleration due to gravity (m/s^2)\n",
    "V = 80           # Initial velocity in m/s\n",
    "ang = 60.0       # Angle of initial velocity in degrees\n",
    "Cd = 0.005       # Drag coefficient\n",
    "dt = 0.5         # time step in s\n",
    "\n",
    "# You can check the variables by printing them out\n",
    "print (V, ang)\n",
    "t = [0]                         # list to keep track of time\n",
    "vx = [V*np.cos(ang/180*np.pi)]  # list for velocity x and y components\n",
    "vy = [V*np.sin(ang/180*np.pi)]\n",
    "\n",
    "# Drag force\n",
    "drag = Cd*V**2                      # drag force \n",
    "\n",
    "# Create the lists for acceleration components\n",
    "ax = [-(drag*np.cos(ang/180*np.pi))/M]        \n",
    "ay = [-g-(drag*np.sin(ang/180*np.pi)/M)]\n",
    "\n",
    "# Print out some values to check\n",
    "print (ax[0])\n",
    "print (ay[0])\n",
    "print (vx[0])\n",
    "print (vy[0])"
   ]
  },
  {
   "cell_type": "code",
   "execution_count": 12,
   "metadata": {},
   "outputs": [
    {
     "name": "stdout",
     "output_type": "stream",
     "text": [
      "t= [0, 0.5, 1.0, 1.5, 2.0, 2.5, 3.0, 3.5, 4.0, 4.5, 5.0]\n",
      "vx= [40.00000000000001, 32.00000000000001, 27.528951416567008, 24.787883378136915, 23.02339491459251, 21.846818145611152, 21.027776019653995, 20.413445666052425, 19.89116281938412, 19.368416481078107, 18.760291921319446]\n"
     ]
    },
    {
     "data": {
      "text/plain": [
       "Text(0.5, 0, 'time (s)')"
      ]
     },
     "execution_count": 12,
     "metadata": {},
     "output_type": "execute_result"
    },
    {
     "data": {
      "image/png": "[encoded data removed]",
      "text/plain": [
       "<Figure size 432x288 with 1 Axes>"
      ]
     },
     "metadata": {
      "needs_background": "light"
     },
     "output_type": "display_data"
    }
   ],
   "source": [
    "# Use Euler method to update variables\n",
    "counter = 0\n",
    "while (counter < 10):\n",
    "    t.append(t[counter]+dt)                # increment by dt and add to the list of time \n",
    "    vx.append(vx[counter]+dt*ax[counter])  # Update the velocity\n",
    "    vy.append(vy[counter]+dt*ay[counter])  \n",
    "\n",
    "    # With the new velocity calculate the drag force\n",
    "    vel = np.sqrt(vx[counter+1]**2 + vy[counter+1]**2)   # magnitude of velocity\n",
    "    drag = Cd*vel**2                                   # drag force \n",
    "    ax.append(-(drag*np.cos(ang/180*np.pi))/M)     \n",
    "    ay.append(-g-(drag*np.sin(ang/180*np.pi)/M))\n",
    "    \n",
    "    # Increment the counter by 1\n",
    "    counter = counter +1\n",
    "\n",
    "# Print the values to check\n",
    "print (\"t=\", t)\n",
    "print (\"vx=\", vx)\n",
    "\n",
    "# Let's plot the velocity against time\n",
    "plt.plot(t,vx)\n",
    "plt.ylabel(\"x-velocity (m/s)\")\n",
    "plt.xlabel(\"time (s)\")"
   ]
  },
  {
   "cell_type": "code",
   "execution_count": null,
   "metadata": {},
   "outputs": [],
   "source": [
    "\n",
    "# Initialise the lists for x and y\n",
    "x = [0]\n",
    "y = [0]\n",
    "\n",
    "# Use Euler method to update variables\n",
    "counter = 0\n",
    "while (counter < 10):\n",
    "    # Update the positions x and y\n",
    "    x.append(x[counter]+dt*vx[counter])    \n",
    "    y.append(y[counter]+dt*vy[counter])    \n",
    "    # Increment the counter by 1\n",
    "    counter = counter +1\n",
    "\n",
    "\n",
    "# Let's plot the trajectory\n",
    "plt.plot(x,y,'ro')\n",
    "plt.ylabel(\"y (m)\")\n",
    "plt.xlabel(\"x (m)\")\n",
    "print (\"Range of projectile is {:3.1f} m\".format(x[counter]))"
   ]
  }
 ],
 "metadata": {
  "kernelspec": {
   "display_name": "Python 3",
   "language": "python",
   "name": "python3"
  },
  "language_info": {
   "codemirror_mode": {
    "name": "ipython",
    "version": 3
   },
   "file_extension": ".py",
   "mimetype": "text/x-python",
   "name": "python",
   "nbconvert_exporter": "python",
   "pygments_lexer": "ipython3",
   "version": "3.8.0"
  }
 },
 "nbformat": 4,
 "nbformat_minor": 4
}
