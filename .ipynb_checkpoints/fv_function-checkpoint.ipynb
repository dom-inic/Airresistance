{
 "cells": [
  {
   "cell_type": "code",
   "execution_count": 2,
   "metadata": {},
   "outputs": [],
   "source": [
    "import matplotlib.pyplot as plt\n",
    "import numpy as np"
   ]
  },
  {
   "cell_type": "code",
   "execution_count": 7,
   "metadata": {},
   "outputs": [
    {
     "name": "stdout",
     "output_type": "stream",
     "text": [
      "5 60.0\n",
      "-0.06250000000000001\n",
      "-9.908253175473055\n",
      "2.5000000000000004\n",
      "4.330127018922193\n"
     ]
    }
   ],
   "source": [
    "def vf():\n",
    "    # set parameters\n",
    "    M = 1.0          # Mass of projectile in kg\n",
    "    g = 9.8          # Acceleration due to gravity (m/s^2)\n",
    "    V = 5          # Initial velocity in m/s\n",
    "    ang = 60.0       # Angle of initial velocity in degrees\n",
    "    Cd = 0.005       # Drag coefficient\n",
    "    dt = 0.5         # time step in s\n",
    "\n",
    "    # checking the variables by printing them out \n",
    "    print (V, ang)\n",
    "    t = [0]      # t condition set to 0\n",
    "    # vx and vy conditions \n",
    "    vx = [V*np.cos(ang/180*np.pi)]  \n",
    "    vy = [V*np.sin(ang/180*np.pi)]\n",
    "\n",
    "    # Drag force\n",
    "    drag = Cd*V**2                       \n",
    "\n",
    "    # defined lists \n",
    "    ax = [-(drag*np.cos(ang/180*np.pi))/M]        \n",
    "    ay = [-g-(drag*np.sin(ang/180*np.pi)/M)]\n",
    "\n",
    "    # Print out some values to check\n",
    "    print (ax[0])\n",
    "    print (ay[0])\n",
    "    print (vx[0])\n",
    "    print (vy[0])\n",
    "    \n",
    "vf()"
   ]
  },
  {
   "cell_type": "code",
   "execution_count": null,
   "metadata": {},
   "outputs": [],
   "source": []
  }
 ],
 "metadata": {
  "kernelspec": {
   "display_name": "Python 3",
   "language": "python",
   "name": "python3"
  },
  "language_info": {
   "codemirror_mode": {
    "name": "ipython",
    "version": 3
   },
   "file_extension": ".py",
   "mimetype": "text/x-python",
   "name": "python",
   "nbconvert_exporter": "python",
   "pygments_lexer": "ipython3",
   "version": "3.8.0"
  }
 },
 "nbformat": 4,
 "nbformat_minor": 4
}
